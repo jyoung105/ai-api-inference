{
 "cells": [
  {
   "cell_type": "markdown",
   "metadata": {},
   "source": [
    "# Inference through Fal\n",
    "\n",
    "<img src=\"../asset/fal.png\" width=\"400\" />"
   ]
  },
  {
   "cell_type": "code",
   "execution_count": null,
   "metadata": {},
   "outputs": [],
   "source": [
    "!pip install --upgrade fal-client"
   ]
  },
  {
   "cell_type": "code",
   "execution_count": null,
   "metadata": {},
   "outputs": [],
   "source": [
    "import os\n",
    "\n",
    "os.environ[\"FAL_KEY\"] = FAL_API_KEY # API_TEST"
   ]
  },
  {
   "cell_type": "code",
   "execution_count": null,
   "metadata": {},
   "outputs": [],
   "source": [
    "import fal_client\n",
    "\n",
    "handler = fal_client.submit(\n",
    "    \"fal-ai/kolors\",\n",
    "    arguments={\n",
    "        \"prompt\": \"A young Chinese couple with fair skin, dressed in stylish sportswear, with the modern Beijing city skyline in the background. Facial details, clear pores, captured using the latest camera model, close-up shot, ultra-high quality, 8K, visual feast.\",\n",
    "        \"negative_prompt\": \"ugly, deformed, blurry\",\n",
    "        \"guidance_scale\": 4,\n",
    "        \"num_inference_steps\": 25,\n",
    "        \"num_images\": 1,\n",
    "        \"image_size\": {\"width\": 1024, \"height\": 1024},\n",
    "        \"scheduler\": \"EulerDiscreteScheduler\"\n",
    "    },\n",
    ")\n",
    "\n",
    "for event in handler.iter_events(with_logs=True):\n",
    "    if isinstance(event, fal_client.InProgress):\n",
    "        print(\"Request in progress\")\n",
    "        print(event.logs)\n",
    "\n",
    "result = handler.get()\n",
    "\n",
    "print(result[\"images\"][0][\"url\"])"
   ]
  },
  {
   "cell_type": "code",
   "execution_count": null,
   "metadata": {},
   "outputs": [],
   "source": [
    "import fal_client\n",
    "\n",
    "result = fal_client.run(\n",
    "    \"fal-ai/kolors\",\n",
    "    arguments={\n",
    "        \"prompt\": \"The image shows a vintage Volkswagen Beetle car parked on a cobblestone street in front of a yellow building with two wooden doors. The car is painted in a bright turquoise color and has a white stripe running along the side. It has two doors on either side of the car, one on top of the other, and a small window on the front. The building appears to be old and dilapidated, with peeling paint and crumbling walls. The sky is blue and there are trees in the background.\",\n",
    "        \"negative_prompt\": \"ugly, deformed, blurry\",\n",
    "        \"guidance_scale\": 4,\n",
    "        \"num_inference_steps\": 25,\n",
    "        \"num_images\": 1,\n",
    "        \"image_size\": {\"width\": 1024, \"height\": 1024},\n",
    "        \"scheduler\": \"EulerDiscreteScheduler\"\n",
    "    },\n",
    ")\n",
    "\n",
    "print(result)"
   ]
  }
 ],
 "metadata": {
  "language_info": {
   "name": "python"
  }
 },
 "nbformat": 4,
 "nbformat_minor": 2
}

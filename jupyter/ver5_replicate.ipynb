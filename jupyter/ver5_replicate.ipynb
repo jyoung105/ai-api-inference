{
 "cells": [
  {
   "cell_type": "markdown",
   "metadata": {},
   "source": [
    "# Inference through Replicate\n",
    "\n",
    "<img src=\"../asset/replicate.webp\" width=\"400\" />"
   ]
  },
  {
   "cell_type": "code",
   "execution_count": null,
   "metadata": {},
   "outputs": [],
   "source": [
    "!pip install --upgrade replicate"
   ]
  },
  {
   "cell_type": "code",
   "execution_count": null,
   "metadata": {},
   "outputs": [],
   "source": [
    "import os\n",
    "\n",
    "os.environ[\"REPLICATE_API_TOKEN\"] = REPLICATE_API_KEY"
   ]
  },
  {
   "cell_type": "code",
   "execution_count": null,
   "metadata": {},
   "outputs": [],
   "source": [
    "import replicate\n",
    "\n",
    "MODEL_ID = \"bytedance/sdxl-lightning-4step:5f24084160c9089501c1b3545d9be3c27883ae2239b6f412990e82d4a6210f8f\"\n",
    "prompt = \"self-portrait of a woman, lightning in the background\"\n",
    "negative_prompt = \"worst quality, low quality\"\n",
    "\n",
    "output = replicate.run(\n",
    "    MODEL_ID,\n",
    "    input={\n",
    "        \"prompt\": prompt,\n",
    "        \"negative_prompt\": negative_prompt,\n",
    "        \"scheduler\": \"DPMSolverMultistep\",\n",
    "        \"width\": 1024,\n",
    "        \"height\": 1024,\n",
    "        \"guidance_scale\": 0,\n",
    "        \"num_inference_steps\": 4,\n",
    "        \"num_outputs\": 1,\n",
    "    }\n",
    ")\n",
    "\n",
    "print(output)"
   ]
  }
 ],
 "metadata": {
  "language_info": {
   "name": "python"
  }
 },
 "nbformat": 4,
 "nbformat_minor": 2
}

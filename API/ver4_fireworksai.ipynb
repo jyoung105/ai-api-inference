{
 "cells": [
  {
   "cell_type": "markdown",
   "metadata": {},
   "source": [
    "# Inference through Fireworks.ai\n",
    "\n",
    "<img src=\"../asset/fireworksai.png\" width=\"400\"/>"
   ]
  },
  {
   "cell_type": "code",
   "execution_count": null,
   "metadata": {},
   "outputs": [],
   "source": [
    "!pip install --upgrade fireworks-ai"
   ]
  },
  {
   "cell_type": "code",
   "execution_count": null,
   "metadata": {},
   "outputs": [],
   "source": [
    "from fireworks.client import Fireworks\n",
    "\n",
    "FIREWORKS_API_KEY = FIREWORKS_API_KEY\n",
    "client = Fireworks(api_key=FIREWORKS_API_KEY)"
   ]
  },
  {
   "cell_type": "code",
   "execution_count": null,
   "metadata": {},
   "outputs": [],
   "source": [
    "from fireworks.client import Fireworks\n",
    "import time\n",
    "\n",
    "start = time.time()\n",
    "\n",
    "response = client.chat.completions.create(\n",
    "  model=\"accounts/fireworks/models/llama-v3p1-405b-instruct\",\n",
    "  messages=[{\n",
    "    \"role\": \"user\",\n",
    "    \"content\": \"Say this is a test\",\n",
    "  }],\n",
    ")\n",
    "\n",
    "print(f\"Took {time.time()-start:.2f} secs\")\n",
    "print(response.choices[0].message.content)"
   ]
  },
  {
   "cell_type": "code",
   "execution_count": null,
   "metadata": {},
   "outputs": [],
   "source": [
    "import fireworks.client\n",
    "import time\n",
    "\n",
    "start = time.time()\n",
    "\n",
    "response = fireworks.client.ChatCompletion.create(\n",
    "  model = \"accounts/fireworks/models/firellava-13b\",\n",
    "  messages = [{\n",
    "    \"role\": \"user\",\n",
    "    \"content\": [{\n",
    "      \"type\": \"text\",\n",
    "      \"text\": \"Can you describe this image?\",\n",
    "    }, {\n",
    "      \"type\": \"image_url\",\n",
    "      \"image_url\": {\n",
    "        \"url\": \"https://images.unsplash.com/photo-1582538885592-e70a5d7ab3d3?ixlib=rb-4.0.3&ixid=M3wxMjA3fDB8MHxwaG90by1wYWdlfHx8fGVufDB8fHx8fA%3D%3D&auto=format&fit=crop&w=1770&q=80\"\n",
    "      },\n",
    "    }, ],\n",
    "  }],\n",
    ")\n",
    "\n",
    "print(f\"Took {time.time()-start:.2f} secs\")\n",
    "print(response.choices[0].message.content)"
   ]
  },
  {
   "cell_type": "code",
   "execution_count": null,
   "metadata": {},
   "outputs": [],
   "source": [
    "import fireworks.client\n",
    "import base64\n",
    "import time\n",
    "\n",
    "start = time.time()\n",
    "\n",
    "# Helper function to encode the image\n",
    "def encode_image(image_path):\n",
    "  with open(image_path, \"rb\") as image_file:\n",
    "    return base64.b64encode(image_file.read()).decode('utf-8')\n",
    "\n",
    "# The path to your image\n",
    "image_path = \"your_image.jpg\"\n",
    "\n",
    "# The base64 string of the image\n",
    "image_base64 = encode_image(image_path)\n",
    "\n",
    "# fireworks.client.api_key = \"<FIREWORKS_API_KEY>\"\n",
    "\n",
    "response = fireworks.client.ChatCompletion.create(\n",
    "  model = \"accounts/fireworks/models/firellava-13b\",\n",
    "  messages = [{\n",
    "    \"role\": \"user\",\n",
    "    \"content\": [{\n",
    "      \"type\": \"text\",\n",
    "      \"text\": \"Can you describe this image?\",\n",
    "    }, {\n",
    "      \"type\": \"image_url\",\n",
    "      \"image_url\": {\n",
    "        \"url\": f \"data:image/jpeg;base64,{image_base64}\"\n",
    "      },\n",
    "    }, ],\n",
    "  }],\n",
    ")\n",
    "\n",
    "print(f\"Took {time.time()-start:.2f} secs\")\n",
    "print(response.choices[0].message.content)"
   ]
  },
  {
   "cell_type": "code",
   "execution_count": null,
   "metadata": {},
   "outputs": [],
   "source": [
    "import fireworks.client\n",
    "\n",
    "# fireworks.client.api_key = \"<FIREWORKS_API_KEY>\"\n",
    "\n",
    "response = fireworks.client.Completion.create(\n",
    "  model = \"accounts/fireworks/models/firellava-13b\",\n",
    "  prompt = \"SYSTEM: Hello\\n\\nUSER:<image>\\ntell me about the image\\n\\nASSISTANT:\",\n",
    "  images = [\"https://images.unsplash.com/photo-1582538885592-e70a5d7ab3d3?ixlib=rb-4.0.3&ixid=M3wxMjA3fDB8MHxwaG90by1wYWdlfHx8fGVufDB8fHx8fA%3D%3D&auto=format&fit=crop&w=1770&q=80\"],\n",
    ")\n",
    "print(response.choices[0].text)"
   ]
  }
 ],
 "metadata": {
  "language_info": {
   "name": "python"
  }
 },
 "nbformat": 4,
 "nbformat_minor": 2
}
